{
 "cells": [
  {
   "cell_type": "markdown",
   "id": "6a72c377",
   "metadata": {},
   "source": [
    "# KWIC Analysis Example\n",
    "\n",
    "## Key word in context analysis\n",
    "\n",
    "### Example Sentence:\n",
    "**\"The dog barked loudly at the stranger.\"**\n",
    "\n",
    "If we want to do KWIC analysis on the word **\"dog\"**, we'd look at how it’s used in context.\n",
    "\n",
    "### KWIC Output for \"dog\":\n"
   ]
  },
  {
   "cell_type": "markdown",
   "id": "b5610a17",
   "metadata": {},
   "source": [
    "...The dog barked loudly... ...dog barked loudly at..."
   ]
  },
  {
   "cell_type": "markdown",
   "id": "2d6f3fc8",
   "metadata": {},
   "source": [
    "Here’s how this helps:\n",
    "\n",
    "1. **Context of \"dog\"**: In the first part, it’s part of the phrase \"The dog barked loudly\". In the second, it’s in \"dog barked loudly at\". By seeing these parts together, we can understand how **\"dog\"** is behaving in the sentence.\n",
    "\n",
    "This is KWIC! It shows the word **\"dog\"** in the context where it's used, helping us understand its role in the sentence."
   ]
  },
  {
   "cell_type": "code",
   "execution_count": 2,
   "id": "394cd551",
   "metadata": {},
   "outputs": [
    {
     "name": "stdout",
     "output_type": "stream",
     "text": [
      "Top 5 Key Contexts:\n",
      "         keyword                                                                        full_context\n",
      "         Mueller                                             Bert Mueller , a 35-year-old American ,\n",
      "     35-year-old                  Bert Mueller , a 35-year-old American , founded California Burrito\n",
      "Mexican-inspired      California Burrito , a successful Mexican-inspired restaurant chain in India .\n",
      "           chain             , a successful Mexican-inspired restaurant chain in India . He overcame\n",
      "           India successful Mexican-inspired restaurant chain in India . He overcame challenges like\n"
     ]
    }
   ],
   "source": [
    "import warnings\n",
    "warnings.filterwarnings('ignore')  # Suppress warning messages\n",
    "\n",
    "import json\n",
    "import pandas as pd\n",
    "import numpy as np\n",
    "from nltk import word_tokenize\n",
    "from collections import defaultdict\n",
    "from sklearn.feature_extraction.text import TfidfVectorizer\n",
    "\n",
    "def auto_kwic_analysis(text, window_size=5, num_keywords=15):\n",
    "    \"\"\"\n",
    "    Full automated KWIC pipeline with keyword detection\n",
    "    :param text: Input text (cleaned/summarized)\n",
    "    :param window_size: Context words around keywords\n",
    "    :param num_keywords: Number of keywords to auto-detect\n",
    "    :return: KWIC DataFrame\n",
    "    \"\"\"\n",
    "    try:\n",
    "        # 1. Auto-detect keywords using TF-IDF with n-grams\n",
    "        tfidf = TfidfVectorizer(\n",
    "            ngram_range=(1, 2),\n",
    "            max_features=num_keywords,\n",
    "            stop_words='english'\n",
    "        )\n",
    "        text_features = tfidf.fit_transform([text])\n",
    "        keywords = tfidf.get_feature_names_out()\n",
    "        \n",
    "        # 2. Process text for KWIC\n",
    "        tokens = word_tokenize(text)\n",
    "        concordance = {\n",
    "            'keyword': [],\n",
    "            'left_context': [],\n",
    "            'right_context': [],\n",
    "            'position': [],\n",
    "            'full_context': []\n",
    "        }\n",
    "        \n",
    "        # 3. Find all keyword occurrences\n",
    "        for i, word in enumerate(tokens):\n",
    "            current_word = word.lower()\n",
    "            if any(kw.lower() in current_word for kw in keywords):\n",
    "                left = ' '.join(tokens[max(0, i-window_size):i])\n",
    "                right = ' '.join(tokens[i+1:i+1+window_size])\n",
    "                \n",
    "                concordance['keyword'].append(word)\n",
    "                concordance['left_context'].append(left)\n",
    "                concordance['right_context'].append(right)\n",
    "                concordance['position'].append(i)\n",
    "                concordance['full_context'].append(f\"{left} {word} {right}\")\n",
    "\n",
    "        return pd.DataFrame(concordance)\n",
    "    \n",
    "    except Exception as e:\n",
    "        print(f\"Error in KWIC analysis: {str(e)}\")\n",
    "        return pd.DataFrame()\n",
    "\n",
    "def full_pipeline():\n",
    "    \"\"\"Complete automated analysis pipeline\"\"\"\n",
    "    try:\n",
    "        # 1. Load processed data\n",
    "        with open('data/json_files/transcript_data.json') as f:\n",
    "            data = json.load(f)\n",
    "            summary = data.get('summary', '')  # More robust way to access summary\n",
    "        \n",
    "        # 2. Run auto KWIC\n",
    "        kwic_df = auto_kwic_analysis(summary)\n",
    "        \n",
    "        if not kwic_df.empty:\n",
    "            # 3. Save results\n",
    "            kwic_df.to_csv('data/csv_files/kwic_results.csv', index=False)\n",
    "            kwic_df.to_json('data/json_files/kwic_results.json', orient='records')\n",
    "            \n",
    "            # 4. Print sample\n",
    "            print(\"Top 5 Key Contexts:\")\n",
    "            print(kwic_df[['keyword', 'full_context']].head().to_string(index=False))\n",
    "        \n",
    "        return kwic_df\n",
    "    \n",
    "    except Exception as e:\n",
    "        print(f\"Error in pipeline: {str(e)}\")\n",
    "        return pd.DataFrame()\n",
    "\n",
    "# Execute the full pipeline\n",
    "if __name__ == \"__main__\":\n",
    "    final_results = full_pipeline()"
   ]
  }
 ],
 "metadata": {
  "kernelspec": {
   "display_name": "Python 3",
   "language": "python",
   "name": "python3"
  },
  "language_info": {
   "codemirror_mode": {
    "name": "ipython",
    "version": 3
   },
   "file_extension": ".py",
   "mimetype": "text/x-python",
   "name": "python",
   "nbconvert_exporter": "python",
   "pygments_lexer": "ipython3",
   "version": "3.10.6"
  }
 },
 "nbformat": 4,
 "nbformat_minor": 5
}
