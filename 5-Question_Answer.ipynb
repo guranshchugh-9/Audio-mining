{
 "cells": [
  {
   "cell_type": "markdown",
   "id": "7a7fd960",
   "metadata": {},
   "source": [
    "## hugging face embeddings was always giving the error pip install sentence-transformers"
   ]
  },
  {
   "cell_type": "code",
   "execution_count": 3,
   "id": "b1710241",
   "metadata": {},
   "outputs": [],
   "source": [
    "from langchain_core.runnables.config import run_in_executor\n",
    "from langchain_community.document_loaders import TextLoader\n",
    "from langchain.text_splitter import RecursiveCharacterTextSplitter\n",
    "from langchain_core.documents import Document  # Updated import\n",
    "\n",
    "# Load cleaned transcript\n",
    "loader = TextLoader(\"data/text_files/cleaned_transcript.txt\") \n",
    "documents = loader.load()\n",
    "\n",
    "# Split with overlap for context\n",
    "text_splitter = RecursiveCharacterTextSplitter(\n",
    "    chunk_size=1000,\n",
    "    chunk_overlap=200\n",
    ")\n",
    "chunks = text_splitter.split_documents(documents)"
   ]
  },
  {
   "cell_type": "code",
   "execution_count": 4,
   "id": "6b5d076b",
   "metadata": {},
   "outputs": [],
   "source": [
    "# Load KWIC data for boosting\n",
    "import pandas as pd\n",
    "kwic_df = pd.read_csv(\"data/csv_files/kwic_results.csv\")\n",
    "keywords = kwic_df['keyword'].unique().tolist()\n",
    "\n",
    "# Add keyword metadata to chunks\n",
    "for chunk in chunks:\n",
    "    chunk_keywords = [kw for kw in keywords if kw.lower() in chunk.page_content.lower()]\n",
    "    chunk.metadata[\"keywords\"] = chunk_keywords"
   ]
  },
  {
   "cell_type": "code",
   "execution_count": 17,
   "id": "c1b2758a",
   "metadata": {},
   "outputs": [],
   "source": [
    "import spacy\n",
    "from langchain_core.embeddings import Embeddings\n",
    "\n",
    "class SpacyEmbeddings(Embeddings):\n",
    "    def __init__(self):\n",
    "        self.nlp = spacy.load(\"en_core_web_sm\")\n",
    "        \n",
    "    def embed_documents(self, texts):\n",
    "        return [self.nlp(text).vector.tolist() for text in texts]\n",
    "    \n",
    "    def embed_query(self, text):\n",
    "        return self.nlp(text).vector.tolist()\n",
    "\n",
    "# Usage\n",
    "embeddings = SpacyEmbeddings()\n",
    "vector_store = FAISS.from_documents(chunks, embeddings)"
   ]
  },
  {
   "cell_type": "code",
   "execution_count": 20,
   "id": "648a3ffe",
   "metadata": {},
   "outputs": [],
   "source": [
    "from langchain.retrievers import EnsembleRetriever\n",
    "from langchain.vectorstores import FAISS\n",
    "\n",
    "# Initialize FAISS retriever\n",
    "vector_retriever = vector_store.as_retriever(\n",
    "    search_type=\"mmr\",  # Maximal Marginal Relevance\n",
    "    search_kwargs={\"k\": 5, \"fetch_k\": 20}\n",
    ")\n",
    "\n",
    "# Optional: Add BM25 for hybrid search\n",
    "from langchain.retrievers import BM25Retriever\n",
    "bm25_retriever = BM25Retriever.from_documents(chunks)\n",
    "bm25_retriever.k = 3\n",
    "\n",
    "# Combine retrievers\n",
    "ensemble_retriever = EnsembleRetriever(\n",
    "    retrievers=[vector_retriever, bm25_retriever],\n",
    "    weights=[0.7, 0.3]\n",
    ")"
   ]
  },
  {
   "cell_type": "code",
   "execution_count": 25,
   "id": "f75bf66c",
   "metadata": {},
   "outputs": [
    {
     "name": "stdout",
     "output_type": "stream",
     "text": [
      "Answer: This text discusses the founding and growth of a Mexican-inspired restaurant chain called California Burrito in India. \n",
      "\n",
      "\n",
      "Here are some key points:\n",
      "\n",
      "* **Founder:** Bert Mueller, who moved to India in 2011.\n",
      "* **Inspiration:**  Bert wanted to bring authentic Mexican food to India, noticing the lack of options beyond Taco Bell.\n",
      "* **Challenges:**  Adapting to the Indian market and sourcing ingredients was a major hurdle.\n",
      "* **Growth:**  The first store opened in 2012 and has since expanded to 103 locations.\n",
      "* **Financial Success:**  The first store generated $500,000 in its first year. \n",
      "\n",
      "\n",
      "\n",
      "Let me know if you have any other questions about California Burrito. \n",
      "\n",
      "Sources: ['data/text_files/cleaned_transcript.txt']\n"
     ]
    }
   ],
   "source": [
    "from langchain_groq import ChatGroq\n",
    "from langchain.chains import RetrievalQA\n",
    "from dotenv import load_dotenv\n",
    "import os\n",
    "\n",
    "load_dotenv()\n",
    "api_key = os.environ[\"GROQ_API_KEY\"]\n",
    "\n",
    "# Initialize Groq client (5x faster than local LLMs)\n",
    "groq_llm = ChatGroq(\n",
    "    temperature=0.1,\n",
    "    model_name=\"gemma2-9b-it\",  # Fastest model\n",
    "    max_tokens=1024\n",
    ")\n",
    "\n",
    "# Reuse your existing FAISS retriever\n",
    "qa_chain = RetrievalQA.from_chain_type(\n",
    "    llm=groq_llm,\n",
    "    chain_type=\"stuff\",\n",
    "    retriever=vector_store.as_retriever(search_kwargs={\"k\": 3}),\n",
    "    return_source_documents=True\n",
    ")\n",
    "\n",
    "# Query function remains the same\n",
    "def answer_query(query):\n",
    "    result = qa_chain({\"query\": query})\n",
    "    return {\n",
    "        \"answer\": result[\"result\"],\n",
    "        \"sources\": list(set([doc.metadata[\"source\"] for doc in result[\"source_documents\"]]))\n",
    "    }\n",
    "\n",
    "# Usage\n",
    "response = answer_query(\"What was discussed about California Burrito?\")\n",
    "print(f\"Answer: {response['answer']}\\nSources: {response['sources']}\")"
   ]
  }
 ],
 "metadata": {
  "kernelspec": {
   "display_name": "Python 3",
   "language": "python",
   "name": "python3"
  },
  "language_info": {
   "codemirror_mode": {
    "name": "ipython",
    "version": 3
   },
   "file_extension": ".py",
   "mimetype": "text/x-python",
   "name": "python",
   "nbconvert_exporter": "python",
   "pygments_lexer": "ipython3",
   "version": "3.10.6"
  }
 },
 "nbformat": 4,
 "nbformat_minor": 5
}
