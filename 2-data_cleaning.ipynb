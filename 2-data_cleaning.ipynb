{
 "cells": [
  {
   "cell_type": "code",
   "execution_count": 1,
   "id": "75fd49ad",
   "metadata": {},
   "outputs": [
    {
     "name": "stderr",
     "output_type": "stream",
     "text": [
      "[nltk_data] Downloading package punkt to\n",
      "[nltk_data]     /Users/guranshchugh/nltk_data...\n",
      "[nltk_data]   Unzipping tokenizers/punkt.zip.\n"
     ]
    }
   ],
   "source": [
    "import re\n",
    "import nltk\n",
    "nltk.download('punkt')\n",
    "from nltk.tokenize import sent_tokenize\n",
    "\n",
    "# Load transcript\n",
    "with open(\"data/whisper_youtube_transcript.txt\", \"r\") as f:\n",
    "    raw_text = f.read()\n",
    "\n",
    "# 1. Remove fillers (you can expand the list)\n",
    "fillers = ['uh', 'um', 'you know', 'like', 'i mean', 'so']\n",
    "for filler in fillers:\n",
    "    raw_text = re.sub(rf'\\b{filler}\\b', '', raw_text, flags=re.IGNORECASE)\n",
    "\n",
    "# 2. Sentence segmentation\n",
    "sentences = sent_tokenize(raw_text)\n",
    "\n",
    "# 3. Save cleaned output\n",
    "with open(\"data/cleaned_transcript.txt\", \"w\") as f:\n",
    "    for sent in sentences:\n",
    "        f.write(sent.strip() + '\\n')"
   ]
  },
  {
   "cell_type": "code",
   "execution_count": null,
   "id": "6c60fa45",
   "metadata": {},
   "outputs": [],
   "source": []
  }
 ],
 "metadata": {
  "kernelspec": {
   "display_name": "Python 3",
   "language": "python",
   "name": "python3"
  },
  "language_info": {
   "codemirror_mode": {
    "name": "ipython",
    "version": 3
   },
   "file_extension": ".py",
   "mimetype": "text/x-python",
   "name": "python",
   "nbconvert_exporter": "python",
   "pygments_lexer": "ipython3",
   "version": "3.10.6"
  }
 },
 "nbformat": 4,
 "nbformat_minor": 5
}
